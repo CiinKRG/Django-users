{
 "cells": [
  {
   "cell_type": "code",
   "execution_count": 8,
   "metadata": {},
   "outputs": [
    {
     "name": "stdout",
     "output_type": "stream",
     "text": [
      "total 152\r\n",
      "-rw-r--r-- 1 cynthia cynthia 139264 abr  1 11:53 db.sqlite3\r\n",
      "-rwxr-xr-x 1 cynthia cynthia    805 mar 27 18:30 \u001b[0m\u001b[01;32mmanage.py\u001b[0m*\r\n",
      "drwxr-xr-x 3 cynthia cynthia   4096 mar 28 10:35 \u001b[01;34mmysite2\u001b[0m/\r\n",
      "drwxr-xr-x 5 cynthia cynthia   4096 mar 28 11:22 \u001b[01;34mperfiles\u001b[0m/\r\n",
      "-rw-r--r-- 1 cynthia cynthia   1314 abr  1 13:02 Untitled.ipynb\r\n"
     ]
    }
   ],
   "source": [
    "ls -l"
   ]
  },
  {
   "cell_type": "code",
   "execution_count": 15,
   "metadata": {},
   "outputs": [
    {
     "name": "stdout",
     "output_type": "stream",
     "text": [
      "/home/cynthia\n"
     ]
    }
   ],
   "source": [
    "cd"
   ]
  },
  {
   "cell_type": "code",
   "execution_count": 16,
   "metadata": {},
   "outputs": [
    {
     "name": "stdout",
     "output_type": "stream",
     "text": [
      "total 376\r\n",
      "-rw-rw-r-- 1 cynthia cynthia 136081 mar 25 15:09 Datos_bancarios.pdf\r\n",
      "-rw-rw-r-- 1 cynthia cynthia 195723 mar 25 15:08 Datos_bancarios.pdf.odt\r\n",
      "drwxr-xr-x 4 cynthia cynthia   4096 mar 22 13:54 \u001b[0m\u001b[01;34mDescargas\u001b[0m/\r\n",
      "drwxr-xr-x 4 cynthia cynthia   4096 abr  1 12:37 \u001b[01;34mDocumentos\u001b[0m/\r\n",
      "drwxr-xr-x 2 cynthia cynthia   4096 mar 20 10:58 \u001b[01;34mEscritorio\u001b[0m/\r\n",
      "-rw-r--r-- 1 cynthia cynthia   8980 mar 20 10:41 examples.desktop\r\n",
      "drwxr-xr-x 2 cynthia cynthia   4096 abr  1 10:30 \u001b[01;34mImágenes\u001b[0m/\r\n",
      "drwxr-xr-x 2 cynthia cynthia   4096 mar 20 10:58 \u001b[01;34mMúsica\u001b[0m/\r\n",
      "drwxr-xr-x 2 cynthia cynthia   4096 mar 20 10:58 \u001b[01;34mPlantillas\u001b[0m/\r\n",
      "drwxr-xr-x 2 cynthia cynthia   4096 mar 20 10:58 \u001b[01;34mPúblico\u001b[0m/\r\n",
      "drwxr-xr-x 5 cynthia cynthia   4096 abr  1 12:05 \u001b[01;34msnap\u001b[0m/\r\n",
      "drwxr-xr-x 2 cynthia cynthia   4096 mar 20 10:58 \u001b[01;34mVídeos\u001b[0m/\r\n"
     ]
    }
   ],
   "source": [
    "ls -l"
   ]
  },
  {
   "cell_type": "code",
   "execution_count": 17,
   "metadata": {},
   "outputs": [
    {
     "name": "stdout",
     "output_type": "stream",
     "text": [
      "/home/cynthia/Descargas/elasticsearch-6.6.2\n"
     ]
    }
   ],
   "source": [
    "cd Descargas/elasticsearch-6.6.2/"
   ]
  },
  {
   "cell_type": "code",
   "execution_count": 20,
   "metadata": {},
   "outputs": [
    {
     "name": "stdout",
     "output_type": "stream",
     "text": [
      "/home/cynthia/Descargas/elasticsearch-6.6.2/bin\n"
     ]
    }
   ],
   "source": [
    "cd bin/"
   ]
  },
  {
   "cell_type": "code",
   "execution_count": 21,
   "metadata": {},
   "outputs": [
    {
     "name": "stdout",
     "output_type": "stream",
     "text": [
      "total 18508\r\n",
      "-rwxr-xr-x 1 cynthia cynthia     1777 mar  6 09:13 \u001b[0m\u001b[01;32melasticsearch\u001b[0m*\r\n",
      "-rw-r--r-- 1 cynthia cynthia     1534 mar  6 09:13 elasticsearch.bat\r\n",
      "-rwxr-xr-x 1 cynthia cynthia      491 mar  6 09:18 \u001b[01;32melasticsearch-certgen\u001b[0m*\r\n",
      "-rwxr-xr-x 1 cynthia cynthia      586 mar  6 09:18 \u001b[01;32melasticsearch-certgen.bat\u001b[0m*\r\n",
      "-rwxr-xr-x 1 cynthia cynthia      483 mar  6 09:18 \u001b[01;32melasticsearch-certutil\u001b[0m*\r\n",
      "-rwxr-xr-x 1 cynthia cynthia      578 mar  6 09:18 \u001b[01;32melasticsearch-certutil.bat\u001b[0m*\r\n",
      "-rwxr-xr-x 1 cynthia cynthia      766 mar  6 09:13 \u001b[01;32melasticsearch-cli\u001b[0m*\r\n",
      "-rw-r--r-- 1 cynthia cynthia      614 mar  6 09:13 elasticsearch-cli.bat\r\n",
      "-rwxr-xr-x 1 cynthia cynthia      433 mar  6 09:18 \u001b[01;32melasticsearch-croneval\u001b[0m*\r\n",
      "-rwxr-xr-x 1 cynthia cynthia      528 mar  6 09:18 \u001b[01;32melasticsearch-croneval.bat\u001b[0m*\r\n",
      "-rwxr-xr-x 1 cynthia cynthia     2153 mar  6 09:13 \u001b[01;32melasticsearch-env\u001b[0m*\r\n",
      "-rw-r--r-- 1 cynthia cynthia     1897 mar  6 09:13 elasticsearch-env.bat\r\n",
      "-rwxr-xr-x 1 cynthia cynthia      121 mar  6 09:13 \u001b[01;32melasticsearch-keystore\u001b[0m*\r\n",
      "-rw-r--r-- 1 cynthia cynthia      224 mar  6 09:13 elasticsearch-keystore.bat\r\n",
      "-rwxr-xr-x 1 cynthia cynthia      440 mar  6 09:18 \u001b[01;32melasticsearch-migrate\u001b[0m*\r\n",
      "-rwxr-xr-x 1 cynthia cynthia      535 mar  6 09:18 \u001b[01;32melasticsearch-migrate.bat\u001b[0m*\r\n",
      "-rwxr-xr-x 1 cynthia cynthia      172 mar  6 09:13 \u001b[01;32melasticsearch-plugin\u001b[0m*\r\n",
      "-rw-r--r-- 1 cynthia cynthia      276 mar  6 09:13 elasticsearch-plugin.bat\r\n",
      "-rwxr-xr-x 1 cynthia cynthia      431 mar  6 09:18 \u001b[01;32melasticsearch-saml-metadata\u001b[0m*\r\n",
      "-rwxr-xr-x 1 cynthia cynthia      526 mar  6 09:18 \u001b[01;32melasticsearch-saml-metadata.bat\u001b[0m*\r\n",
      "-rw-r--r-- 1 cynthia cynthia     7524 mar  6 09:13 elasticsearch-service.bat\r\n",
      "-rw-r--r-- 1 cynthia cynthia   118184 mar  6 09:13 elasticsearch-service-mgr.exe\r\n",
      "-rw-r--r-- 1 cynthia cynthia   114600 mar  6 09:13 elasticsearch-service-x64.exe\r\n",
      "-rwxr-xr-x 1 cynthia cynthia      438 mar  6 09:18 \u001b[01;32melasticsearch-setup-passwords\u001b[0m*\r\n",
      "-rwxr-xr-x 1 cynthia cynthia      533 mar  6 09:18 \u001b[01;32melasticsearch-setup-passwords.bat\u001b[0m*\r\n",
      "-rwxr-xr-x 1 cynthia cynthia      118 mar  6 09:13 \u001b[01;32melasticsearch-shard\u001b[0m*\r\n",
      "-rw-r--r-- 1 cynthia cynthia      221 mar  6 09:13 elasticsearch-shard.bat\r\n",
      "-rwxr-xr-x 1 cynthia cynthia      427 mar  6 09:18 \u001b[01;32melasticsearch-sql-cli\u001b[0m*\r\n",
      "-rwxr-xr-x 1 cynthia cynthia 18547716 mar  6 09:18 \u001b[01;32melasticsearch-sql-cli-6.6.2.jar\u001b[0m*\r\n",
      "-rwxr-xr-x 1 cynthia cynthia      628 mar  6 09:18 \u001b[01;32melasticsearch-sql-cli.bat\u001b[0m*\r\n",
      "-rwxr-xr-x 1 cynthia cynthia      426 mar  6 09:18 \u001b[01;32melasticsearch-syskeygen\u001b[0m*\r\n",
      "-rwxr-xr-x 1 cynthia cynthia      521 mar  6 09:18 \u001b[01;32melasticsearch-syskeygen.bat\u001b[0m*\r\n",
      "-rwxr-xr-x 1 cynthia cynthia      124 mar  6 09:13 \u001b[01;32melasticsearch-translog\u001b[0m*\r\n",
      "-rw-r--r-- 1 cynthia cynthia      227 mar  6 09:13 elasticsearch-translog.bat\r\n",
      "-rwxr-xr-x 1 cynthia cynthia      426 mar  6 09:18 \u001b[01;32melasticsearch-users\u001b[0m*\r\n",
      "-rwxr-xr-x 1 cynthia cynthia      521 mar  6 09:18 \u001b[01;32melasticsearch-users.bat\u001b[0m*\r\n",
      "drwxr-xr-x 2 cynthia cynthia     4096 mar  6 09:18 \u001b[01;34mx-pack\u001b[0m/\r\n",
      "-rwxr-xr-x 1 cynthia cynthia      306 mar  6 09:18 \u001b[01;32mx-pack-env\u001b[0m*\r\n",
      "-rwxr-xr-x 1 cynthia cynthia      303 mar  6 09:18 \u001b[01;32mx-pack-env.bat\u001b[0m*\r\n",
      "-rwxr-xr-x 1 cynthia cynthia      354 mar  6 09:18 \u001b[01;32mx-pack-security-env\u001b[0m*\r\n",
      "-rwxr-xr-x 1 cynthia cynthia      307 mar  6 09:18 \u001b[01;32mx-pack-security-env.bat\u001b[0m*\r\n",
      "-rwxr-xr-x 1 cynthia cynthia      353 mar  6 09:18 \u001b[01;32mx-pack-watcher-env\u001b[0m*\r\n",
      "-rwxr-xr-x 1 cynthia cynthia      306 mar  6 09:18 \u001b[01;32mx-pack-watcher-env.bat\u001b[0m*\r\n"
     ]
    }
   ],
   "source": [
    "ls -l"
   ]
  },
  {
   "cell_type": "code",
   "execution_count": 22,
   "metadata": {},
   "outputs": [
    {
     "name": "stdout",
     "output_type": "stream",
     "text": [
      "/home/cynthia/Descargas/elasticsearch-6.6.2\n"
     ]
    }
   ],
   "source": [
    "cd .."
   ]
  },
  {
   "cell_type": "code",
   "execution_count": 23,
   "metadata": {},
   "outputs": [
    {
     "ename": "SyntaxError",
     "evalue": "invalid syntax (<ipython-input-23-dd7a3549d925>, line 1)",
     "output_type": "error",
     "traceback": [
      "\u001b[0;36m  File \u001b[0;32m\"<ipython-input-23-dd7a3549d925>\"\u001b[0;36m, line \u001b[0;32m1\u001b[0m\n\u001b[0;31m    . bin/elasticsearch\u001b[0m\n\u001b[0m    ^\u001b[0m\n\u001b[0;31mSyntaxError\u001b[0m\u001b[0;31m:\u001b[0m invalid syntax\n"
     ]
    }
   ],
   "source": [
    ". bin/elasticsearch"
   ]
  },
  {
   "cell_type": "code",
   "execution_count": null,
   "metadata": {},
   "outputs": [],
   "source": []
  }
 ],
 "metadata": {
  "kernelspec": {
   "display_name": "Python 3",
   "language": "python",
   "name": "python3"
  },
  "language_info": {
   "codemirror_mode": {
    "name": "ipython",
    "version": 3
   },
   "file_extension": ".py",
   "mimetype": "text/x-python",
   "name": "python",
   "nbconvert_exporter": "python",
   "pygments_lexer": "ipython3",
   "version": "3.6.7"
  }
 },
 "nbformat": 4,
 "nbformat_minor": 2
}
